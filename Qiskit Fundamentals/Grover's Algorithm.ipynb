{
 "cells": [
  {
   "cell_type": "code",
   "execution_count": 1,
   "id": "50d47c63",
   "metadata": {},
   "outputs": [],
   "source": [
    "#Quantum Algorithm - Takes advantage of\n",
    "#Superposition\n",
    "#Entanglement\n",
    "#Interference"
   ]
  },
  {
   "cell_type": "code",
   "execution_count": 2,
   "id": "a8b3698b",
   "metadata": {},
   "outputs": [],
   "source": [
    "my_list = [1,3,5,2,4,9,5,8,0,7,6]"
   ]
  },
  {
   "cell_type": "code",
   "execution_count": 3,
   "id": "00432703",
   "metadata": {},
   "outputs": [],
   "source": [
    "#Classical method\n",
    "def the_oracle(my_input):\n",
    "    winner = 7\n",
    "    if my_input is winner:\n",
    "        response = True\n",
    "    else:\n",
    "        response = False\n",
    "    return response"
   ]
  },
  {
   "cell_type": "code",
   "execution_count": 4,
   "id": "c4f33416",
   "metadata": {},
   "outputs": [
    {
     "name": "stdout",
     "output_type": "stream",
     "text": [
      "Winner found at index 9\n",
      "10 calls to the Oracle used\n"
     ]
    }
   ],
   "source": [
    "for index, trial_number in enumerate(my_list):\n",
    "    if the_oracle(trial_number) is True:\n",
    "        print('Winner found at index %i' %index)\n",
    "        print('%i calls to the Oracle used' %(index+1))\n",
    "        break"
   ]
  },
  {
   "cell_type": "code",
   "execution_count": 14,
   "id": "31a0cdb8",
   "metadata": {},
   "outputs": [],
   "source": [
    "#O(N) for classical\n",
    "#O(sqrt(N)) for Quantum using Grovers\n",
    "#Grover's Diffusion Operator: [Oracle]+[Reflection]\n",
    "from qiskit import *\n",
    "import matplotlib.pyplot as plt\n",
    "import numpy as np\n",
    "from qiskit.visualization import plot_histogram\n",
    "from qiskit.tools.monitor import job_monitor"
   ]
  },
  {
   "cell_type": "code",
   "execution_count": 19,
   "id": "5c78c7ce",
   "metadata": {},
   "outputs": [
    {
     "data": {
      "text/html": [
       "<pre style=\"word-wrap: normal;white-space: pre;background: #fff0;line-height: 1.1;font-family: &quot;Courier New&quot;,Courier,monospace\">        \n",
       "q_0: ─■─\n",
       "      │ \n",
       "q_1: ─■─\n",
       "        </pre>"
      ],
      "text/plain": [
       "        \n",
       "q_0: ─■─\n",
       "      │ \n",
       "q_1: ─■─\n",
       "        "
      ]
     },
     "execution_count": 19,
     "metadata": {},
     "output_type": "execute_result"
    }
   ],
   "source": [
    "# define oracle circuit\n",
    "oracle = QuantumCircuit(2, name='oracle')\n",
    "oracle.cz(0,1)\n",
    "oracle.to_gate()\n",
    "oracle.draw()"
   ]
  },
  {
   "cell_type": "code",
   "execution_count": 7,
   "id": "ea70453b",
   "metadata": {},
   "outputs": [
    {
     "data": {
      "text/html": [
       "<pre style=\"word-wrap: normal;white-space: pre;background: #fff0;line-height: 1.1;font-family: &quot;Courier New&quot;,Courier,monospace\">     ┌───┐┌─────────┐\n",
       "q_0: ┤ H ├┤0        ├\n",
       "     ├───┤│  oracle │\n",
       "q_1: ┤ H ├┤1        ├\n",
       "     └───┘└─────────┘\n",
       "c: 2/════════════════\n",
       "                     </pre>"
      ],
      "text/plain": [
       "     ┌───┐┌─────────┐\n",
       "q_0: ┤ H ├┤0        ├\n",
       "     ├───┤│  oracle │\n",
       "q_1: ┤ H ├┤1        ├\n",
       "     └───┘└─────────┘\n",
       "c: 2/════════════════\n",
       "                     "
      ]
     },
     "execution_count": 7,
     "metadata": {},
     "output_type": "execute_result"
    }
   ],
   "source": [
    "#Testing if oracle works\n",
    "# Superposition on each qubit by applying a hadamard gate to each of them\n",
    "backend = Aer.get_backend('statevector_simulator')\n",
    "grover_circ = QuantumCircuit(2,2)\n",
    "grover_circ.h([0,1])\n",
    "grover_circ.append(oracle, [0,1])\n",
    "grover_circ.draw()\n",
    "#applying hadamard to both qubits and them inputing them into the oracle"
   ]
  },
  {
   "cell_type": "code",
   "execution_count": 8,
   "id": "94b1fe34",
   "metadata": {},
   "outputs": [
    {
     "data": {
      "text/plain": [
       "array([ 0.5+0.j,  0.5+0.j,  0.5+0.j, -0.5+0.j])"
      ]
     },
     "execution_count": 8,
     "metadata": {},
     "output_type": "execute_result"
    }
   ],
   "source": [
    "job = execute(grover_circ, backend)\n",
    "result = job.result()\n",
    "sv = result.get_statevector()\n",
    "np.around(sv, 2)"
   ]
  },
  {
   "cell_type": "code",
   "execution_count": 9,
   "id": "115d4384",
   "metadata": {},
   "outputs": [
    {
     "data": {
      "text/html": [
       "<pre style=\"word-wrap: normal;white-space: pre;background: #fff0;line-height: 1.1;font-family: &quot;Courier New&quot;,Courier,monospace\">     ┌───┐┌───┐   ┌───┐\n",
       "q_0: ┤ H ├┤ Z ├─■─┤ H ├\n",
       "     ├───┤├───┤ │ ├───┤\n",
       "q_1: ┤ H ├┤ Z ├─■─┤ H ├\n",
       "     └───┘└───┘   └───┘</pre>"
      ],
      "text/plain": [
       "     ┌───┐┌───┐   ┌───┐\n",
       "q_0: ┤ H ├┤ Z ├─■─┤ H ├\n",
       "     ├───┤├───┤ │ ├───┤\n",
       "q_1: ┤ H ├┤ Z ├─■─┤ H ├\n",
       "     └───┘└───┘   └───┘"
      ]
     },
     "execution_count": 9,
     "metadata": {},
     "output_type": "execute_result"
    }
   ],
   "source": [
    "#Reflection Operator\n",
    "#with oracle and reflection, we can do amplitude amplification\n",
    "#we can use this to amplify the winning state and reduce non-winning states\n",
    "reflection = QuantumCircuit(2,name='reflection')\n",
    "#circuit that will apply negative to 0,0 state\n",
    "reflection.h([0,1])\n",
    "reflection.z([0,1])\n",
    "reflection.cz(0,1)\n",
    "reflection.h([0,1])\n",
    "reflection.to_gate()\n",
    "reflection.draw()"
   ]
  },
  {
   "cell_type": "code",
   "execution_count": 23,
   "id": "4d0be0f1",
   "metadata": {},
   "outputs": [
    {
     "data": {
      "text/html": [
       "<pre style=\"word-wrap: normal;white-space: pre;background: #fff0;line-height: 1.1;font-family: &quot;Courier New&quot;,Courier,monospace\">     ┌───┐┌─────────┐┌─────────────┐┌─┐   \n",
       "q_0: ┤ H ├┤0        ├┤0            ├┤M├───\n",
       "     ├───┤│  oracle ││  reflection │└╥┘┌─┐\n",
       "q_1: ┤ H ├┤1        ├┤1            ├─╫─┤M├\n",
       "     └───┘└─────────┘└─────────────┘ ║ └╥┘\n",
       "c: 2/════════════════════════════════╩══╩═\n",
       "                                     0  1 </pre>"
      ],
      "text/plain": [
       "     ┌───┐┌─────────┐┌─────────────┐┌─┐   \n",
       "q_0: ┤ H ├┤0        ├┤0            ├┤M├───\n",
       "     ├───┤│  oracle ││  reflection │└╥┘┌─┐\n",
       "q_1: ┤ H ├┤1        ├┤1            ├─╫─┤M├\n",
       "     └───┘└─────────┘└─────────────┘ ║ └╥┘\n",
       "c: 2/════════════════════════════════╩══╩═\n",
       "                                     0  1 "
      ]
     },
     "execution_count": 23,
     "metadata": {},
     "output_type": "execute_result"
    }
   ],
   "source": [
    "#Putting it all together\n",
    "backend = Aer.get_backend('qasm_simulator')\n",
    "grover_circ = QuantumCircuit(2,2)\n",
    "#prepare superpostion state\n",
    "grover_circ.h([0,1])\n",
    "#adding the oracle\n",
    "grover_circ.append(oracle, [0,1])\n",
    "#adding reflection operator\n",
    "grover_circ.append(reflection, [0,1])\n",
    "grover_circ.measure([0,1],[0,1])\n",
    "grover_circ.draw()"
   ]
  },
  {
   "cell_type": "code",
   "execution_count": 24,
   "id": "7cc1548f",
   "metadata": {},
   "outputs": [
    {
     "data": {
      "text/plain": [
       "{'11': 1000}"
      ]
     },
     "execution_count": 24,
     "metadata": {},
     "output_type": "execute_result"
    }
   ],
   "source": [
    "job = execute(grover_circ, backend, shots = 1000)\n",
    "result = job.result()\n",
    "result.get_counts()"
   ]
  },
  {
   "cell_type": "code",
   "execution_count": 25,
   "id": "ee9fb530",
   "metadata": {},
   "outputs": [
    {
     "data": {
      "image/png": "[encoded data removed]",
      "text/plain": [
       "<Figure size 700x500 with 1 Axes>"
      ]
     },
     "execution_count": 25,
     "metadata": {},
     "output_type": "execute_result"
    }
   ],
   "source": [
    "plot_histogram(result.get_counts())"
   ]
  },
  {
   "cell_type": "code",
   "execution_count": 15,
   "id": "550de514",
   "metadata": {},
   "outputs": [
    {
     "name": "stderr",
     "output_type": "stream",
     "text": [
      "ibmqfactory.load_account:WARNING:2022-12-15 12:15:22,859: Credentials are already in use. The existing account in the session will be replaced.\n"
     ]
    }
   ],
   "source": [
    "#Terra Real Hardware Execution\n",
    "IBMQ.load_account()\n",
    "provider = IBMQ.get_provider(hub='ibm-q')\n",
    "device = provider.get_backend('ibm_oslo')"
   ]
  },
  {
   "cell_type": "code",
   "execution_count": 16,
   "id": "f9ced2ee",
   "metadata": {},
   "outputs": [
    {
     "name": "stdout",
     "output_type": "stream",
     "text": [
      "639b805e9316bb608e2a16b1\n",
      "Job Status: job has successfully run\n"
     ]
    }
   ],
   "source": [
    "job = execute(grover_circ, backend=device, shots=1024)\n",
    "print(job.job_id())\n",
    "job_monitor(job)"
   ]
  },
  {
   "cell_type": "code",
   "execution_count": 17,
   "id": "cbc11377",
   "metadata": {},
   "outputs": [
    {
     "data": {
      "image/png": "[encoded data removed]",
      "text/plain": [
       "<Figure size 700x500 with 1 Axes>"
      ]
     },
     "execution_count": 17,
     "metadata": {},
     "output_type": "execute_result"
    }
   ],
   "source": [
    "device_result = job.result()\n",
    "plot_histogram(device_result.get_counts())"
   ]
  },
  {
   "cell_type": "code",
   "execution_count": null,
   "id": "fa42151e",
   "metadata": {},
   "outputs": [],
   "source": []
  }
 ],
 "metadata": {
  "kernelspec": {
   "display_name": "Python 3 (ipykernel)",
   "language": "python",
   "name": "python3"
  },
  "language_info": {
   "codemirror_mode": {
    "name": "ipython",
    "version": 3
   },
   "file_extension": ".py",
   "mimetype": "text/x-python",
   "name": "python",
   "nbconvert_exporter": "python",
   "pygments_lexer": "ipython3",
   "version": "3.9.13"
  }
 },
 "nbformat": 4,
 "nbformat_minor": 5
}
